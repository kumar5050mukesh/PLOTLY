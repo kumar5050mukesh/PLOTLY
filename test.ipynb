{
 "cells": [
  {
   "cell_type": "code",
   "execution_count": null,
   "metadata": {},
   "outputs": [],
   "source": [
    "'''Q1. Load the \"titanic\" dataset using the load_dataset function of seaborn. Use Plotly express to plot a\n",
    "scatter plot for age and fare columns in the titanic dataset.\n",
    "Q2. Using the tips dataset in the Plotly library, plot a box plot using Plotly express.\n",
    "Q3. Using the tips dataset in the Plotly library, Plot a histogram for x= \"sex\" and y=\"total_bill\" column in\n",
    "the tips dataset. Also, use the \"smoker\" column with the pattern_shape parameter and the \"day\"\n",
    "column with the color parameter.\n",
    "Q4. Using the iris dataset in the Plotly library, Plot a scatter matrix plot, using the \"species\" column for\n",
    "the color parameter.\n",
    "Note: Use \"sepal_length\", \"sepal_width\", \"petal_length\", \"petal_width\" columns only with the\n",
    "dimensions parameter.\n",
    "Q5. What is Distplot? Using Plotly express, plot a distplot.'''"
   ]
  },
  {
   "cell_type": "code",
   "execution_count": 7,
   "metadata": {},
   "outputs": [],
   "source": [
    "\"\"\"ANSWER 1\"\"\"\n",
    "import seaborn as sns\n",
    "data=sns.load_dataset(\"titanic\")\n",
    "import plotly.express as px\n",
    "fig = px.scatter(data, x=\"age\", y=\"fare\", title=\"Titanic Age vs Fare\")\n",
    "fig.show()"
   ]
  },
  {
   "attachments": {},
   "cell_type": "markdown",
   "metadata": {},
   "source": [
    "![](newplot1.png)"
   ]
  },
  {
   "attachments": {},
   "cell_type": "markdown",
   "metadata": {},
   "source": [
    "![](newplot1.png)"
   ]
  },
  {
   "attachments": {},
   "cell_type": "markdown",
   "metadata": {},
   "source": [
    "![](newplot1.png)"
   ]
  },
  {
   "cell_type": "code",
   "execution_count": 8,
   "metadata": {},
   "outputs": [],
   "source": [
    "\"\"\"ANSWER 2\"\"\"\n",
    "\n",
    "import seaborn as sns\n",
    "data=sns.load_dataset(\"tips\")\n",
    "import plotly.express as px\n",
    "fig = px.box(data,y=\"total_bill\",title=\"box plot of tips\")\n",
    "fig.show()"
   ]
  },
  {
   "attachments": {},
   "cell_type": "markdown",
   "metadata": {},
   "source": [
    "![](newplot.png)"
   ]
  },
  {
   "cell_type": "code",
   "execution_count": 9,
   "metadata": {},
   "outputs": [],
   "source": [
    "import seaborn as sns\n",
    "data=sns.load_dataset(\"tips\")\n",
    "import plotly.express as px\n",
    "fig = px.box(data,y=\"tip\",title=\"box plot of tips\")\n",
    "fig.show()"
   ]
  },
  {
   "attachments": {},
   "cell_type": "markdown",
   "metadata": {},
   "source": [
    "![](newplot3.png)"
   ]
  },
  {
   "cell_type": "code",
   "execution_count": 10,
   "metadata": {},
   "outputs": [],
   "source": [
    "\"\"\"ANSWER 3\"\"\"\n",
    "import seaborn as sns\n",
    "data=sns.load_dataset(\"tips\")\n",
    "import plotly.express as px\n",
    "\n",
    "\n",
    "fig = px.histogram(data, x=\"sex\", y=\"total_bill\", color=\"day\", pattern_shape=\"smoker\",title=\"Tips\")\n",
    "\n",
    "\n",
    "fig.show()"
   ]
  },
  {
   "attachments": {},
   "cell_type": "markdown",
   "metadata": {},
   "source": [
    "![](newplot4.png)"
   ]
  },
  {
   "cell_type": "code",
   "execution_count": 12,
   "metadata": {},
   "outputs": [],
   "source": [
    "\"\"\"ANSWER 4\"\"\"\n",
    "import plotly.express as px\n",
    "\n",
    "import seaborn as sns\n",
    "data= sns.load_dataset(\"iris\")\n",
    "\n",
    "fig=px.scatter_matrix(data,dimensions=[\"sepal_length\", \"sepal_width\", \"petal_length\", \"petal_width\"],color=\"species\")\n",
    "\n",
    "fig.show()"
   ]
  },
  {
   "attachments": {},
   "cell_type": "markdown",
   "metadata": {},
   "source": [
    "![](newplot5.png)"
   ]
  },
  {
   "cell_type": "code",
   "execution_count": 14,
   "metadata": {},
   "outputs": [],
   "source": [
    "\"\"\"ANSWER 5\"\"\"\n",
    "import plotly.express as px\n",
    "import numpy as np\n",
    "\n",
    "\n",
    "np.random.seed(42)\n",
    "data = np.random.normal(size=1000)\n",
    "\n",
    "fig = px.histogram(data, x=data, nbins=40, histnorm=\"density\")\n",
    "\n",
    "fig.show()"
   ]
  },
  {
   "attachments": {},
   "cell_type": "markdown",
   "metadata": {},
   "source": [
    "![](newplot6.png)"
   ]
  },
  {
   "cell_type": "code",
   "execution_count": null,
   "metadata": {},
   "outputs": [],
   "source": []
  }
 ],
 "metadata": {
  "kernelspec": {
   "display_name": "Python 3",
   "language": "python",
   "name": "python3"
  },
  "language_info": {
   "codemirror_mode": {
    "name": "ipython",
    "version": 3
   },
   "file_extension": ".py",
   "mimetype": "text/x-python",
   "name": "python",
   "nbconvert_exporter": "python",
   "pygments_lexer": "ipython3",
   "version": "3.11.2"
  },
  "orig_nbformat": 4
 },
 "nbformat": 4,
 "nbformat_minor": 2
}
